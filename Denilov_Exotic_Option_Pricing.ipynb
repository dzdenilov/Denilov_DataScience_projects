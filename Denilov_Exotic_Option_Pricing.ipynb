{
 "cells": [
  {
   "cell_type": "code",
   "execution_count": 178,
   "metadata": {},
   "outputs": [],
   "source": [
    "#pip install yfinance"
   ]
  },
  {
   "cell_type": "code",
   "execution_count": 186,
   "metadata": {},
   "outputs": [],
   "source": [
    "import yfinance as yf\n",
    "import numpy as np\n",
    "import pandas as pd\n",
    "import matplotlib.pyplot as plt\n",
    "\n",
    "apple = yf.Ticker(\"AAPL\")\n",
    "alibaba = yf.Ticker(\"BABA\")\n",
    "mcd = yf.Ticker(\"MCD\")\n",
    "disney = yf.Ticker(\"DIS\")\n",
    "boeing = yf.Ticker(\"BA\")\n",
    "\n",
    "# get historical market data\n",
    "hist_apple = apple.history(period=\"1y\")\n",
    "hist_baba = alibaba.history(period=\"1y\")\n",
    "hist_mcdonald = mcd.history(period=\"1y\")\n",
    "hist_disney = disney.history(period=\"1y\")\n",
    "hist_boeing = boeing.history(period=\"1y\")"
   ]
  },
  {
   "cell_type": "code",
   "execution_count": 187,
   "metadata": {},
   "outputs": [],
   "source": [
    "\"\"\"Так как рассчитываем справедливую стоимость, то возьмем рост рынка SP500 за последние 20 лет, которые равняется 10%\n",
    "соответственно, и акции из индекса будут расти на 10%, и дисконтироваться по процентой ставке\"\"\"\n",
    "\n",
    "#https://www.investopedia.com/ask/answers/042415/what-average-annual-return-sp-500.asp\n",
    "sp500_rate = 1.1 #справедливый рост акций\n",
    "\n",
    "#https://www.bloomberg.com/markets/rates-bonds/government-bonds/us\n",
    "free_risk = 0.042 #5 годовая процентная ставка в США"
   ]
  },
  {
   "cell_type": "code",
   "execution_count": 188,
   "metadata": {},
   "outputs": [],
   "source": [
    "\"\"\"Высчитываем справедливую стоимость акций на каждом году и берем стандартное отклонение\"\"\"\n",
    "\n",
    "def fair_price(hist_stock):\n",
    "\n",
    "    std = hist_stock['Close'].std()\n",
    "    price = hist_stock['Close'].tail(1)\n",
    "    years = np.linspace(1, 5, 5)\n",
    "    future_price = np.zeros(5)\n",
    "    init_price = price\n",
    "    \n",
    "    for j in range(5):\n",
    "        price = price*sp500_rate\n",
    "        future_price[j] = price*(1/(1+free_risk)**years[j])\n",
    "    \n",
    "    all_prices = np.concatenate((init_price,future_price))\n",
    "    \n",
    "    return std, all_prices "
   ]
  },
  {
   "cell_type": "code",
   "execution_count": 189,
   "metadata": {},
   "outputs": [],
   "source": [
    "std_apple, price_apple = fair_price(hist_apple)\n",
    "std_baba, price_baba = fair_price(hist_baba)\n",
    "std_mcd, price_mcd = fair_price(hist_mcdonald)\n",
    "std_dsn, price_dsn = fair_price(hist_disney)\n",
    "std_bng, price_bng = fair_price(hist_boeing)\n"
   ]
  },
  {
   "cell_type": "code",
   "execution_count": 190,
   "metadata": {},
   "outputs": [],
   "source": [
    "np.random.seed(0)\n",
    "\n",
    "\"\"\"Методом монте-карло со стандартным отклонением у каждоый акции смотрит распределение цен\n",
    "купонный доход рассчитываем как разницу у каждой акции между каждым годом, затем берем среднее значение купонов за 5 лет\"\"\"\n",
    "\n",
    "def monte_carlo(std, mean_price):\n",
    "    \n",
    "    samples = 10000\n",
    "    monte_carlo = np.zeros((6,samples))\n",
    "    monte_carlo[0,] = np.random.normal(mean_price[0], 0, samples)\n",
    "    \n",
    "    row = np.linspace(1, 5, 5, dtype = 'int')\n",
    "    for j in row:\n",
    "        monte_carlo[j] = np.random.normal(mean_price[j], std, samples)\n",
    "    \n",
    "    mn_price = monte_carlo[5] - monte_carlo[0]\n",
    "    \n",
    "    fair_payoff = np.zeros((5,samples))\n",
    "    for j in range(5):\n",
    "        fair_payoff[j,] = monte_carlo[j+1,] - monte_carlo[j,]\n",
    "\n",
    "    \n",
    "    fair_payoff = fair_payoff.T    \n",
    "    for i in range(samples):\n",
    "        fair_payoff[i,] = fair_payoff[i,].mean()\n",
    "    \n",
    "    payoff = fair_payoff.T[0]\n",
    "    \n",
    "    return payoff, mn_price"
   ]
  },
  {
   "cell_type": "code",
   "execution_count": 191,
   "metadata": {},
   "outputs": [
    {
     "name": "stdout",
     "output_type": "stream",
     "text": [
      "Справедливая стоимость опциона: [12.83247863  5.99559083  6.90265862 ... 13.50194954 13.39497031\n",
      " 12.76664218]\n"
     ]
    },
    {
     "data": {
      "text/plain": [
       "Text(0.5, 0, 'Распределений доходностей от 5 купонов')"
      ]
     },
     "execution_count": 191,
     "metadata": {},
     "output_type": "execute_result"
    },
    {
     "data": {
      "image/png": "[encoded data removed]",
      "text/plain": [
       "<Figure size 432x288 with 1 Axes>"
      ]
     },
     "metadata": {
      "needs_background": "light"
     },
     "output_type": "display_data"
    }
   ],
   "source": [
    "\"\"\"ТК купоны мы считали по отдельности, то скорректируем его на всю корзину, справедливая стоимость самого опциона \n",
    "это доходность акции за 5 лет по справедливой стоимости акции \n",
    "те доходность акций идет по индексу SP500 и дисконтируется на безрисковую ставку, затем это все нужно будет скорректировать на вероятность,\n",
    "что корзина пойдет вверх или вниз\"\"\"\n",
    "\n",
    "payoff_apple, appl_price = monte_carlo(std_apple, price_apple)\n",
    "payoff_baba, baba_price  = monte_carlo(std_baba, price_baba)\n",
    "payoff_dsn, dsn_price  = monte_carlo(std_dsn, price_dsn)\n",
    "payoff_mcd, mcd_price  = monte_carlo(std_mcd, price_mcd)\n",
    "payoff_bng, bng_price  = monte_carlo(std_bng, price_bng)\n",
    "\n",
    "p = 1/2 #есть два исхода по каждый акции вверх или вниз пойдет, соотвественно цену купона скорректируем поделив на 2\n",
    "\n",
    "adj_payoff_appl = payoff_apple*p\n",
    "adj_payoff_baba = payoff_baba*p\n",
    "adj_patoff_dsn = payoff_dsn*p\n",
    "adj_patoff_mcd = payoff_mcd*p\n",
    "adj_patoff_bng = payoff_bng*p\n",
    "\n",
    "p_basket = 1/2**5 #вероятность, что пойдет вся корзина вверх или вниз из 5 акций\n",
    "\n",
    "adj_price_option = (appl_price + baba_price + dsn_price + mcd_price + bng_price)*p_basket\n",
    "overall_coupon_income = (adj_payoff_appl + adj_payoff_baba + adj_patoff_dsn + adj_patoff_bng)*5\n",
    "\n",
    "print(\"Справедливая стоимость опциона:\", adj_price_option)\n",
    "\n",
    "plt.hist(overall_coupon_income, bins ='auto') \n",
    "plt.xlabel('Распределений доходностей от 5 купонов')"
   ]
  },
  {
   "cell_type": "code",
   "execution_count": 193,
   "metadata": {},
   "outputs": [
    {
     "name": "stdout",
     "output_type": "stream",
     "text": [
      "Справедливая стоимость опциона\n",
      "9.597263784150298\n"
     ]
    },
    {
     "data": {
      "image/png": "[encoded data removed]",
      "text/plain": [
       "<Figure size 432x288 with 1 Axes>"
      ]
     },
     "metadata": {
      "needs_background": "light"
     },
     "output_type": "display_data"
    }
   ],
   "source": [
    "plt.hist(adj_price_option, bins ='auto') \n",
    "plt.xlabel('Распределение стоимости опциона')\n",
    "print(\"Справедливая стоимость опциона\") #Это мат ожидание - то есть доходность акций за 5 лет по справедливым ценам акций\n",
    "print(adj_price_option.mean())"
   ]
  },
  {
   "cell_type": "code",
   "execution_count": 195,
   "metadata": {},
   "outputs": [
    {
     "data": {
      "text/plain": [
       "Text(0.5, 0, 'Распределение доходности')"
      ]
     },
     "execution_count": 195,
     "metadata": {},
     "output_type": "execute_result"
    },
    {
     "data": {
      "image/png": "[encoded data removed]",
      "text/plain": [
       "<Figure size 432x288 with 1 Axes>"
      ]
     },
     "metadata": {
      "needs_background": "light"
     },
     "output_type": "display_data"
    }
   ],
   "source": [
    "plt.hist(overall_coupon_income - adj_price_option, bins ='auto') \n",
    "plt.xlabel('Распределение доходности')"
   ]
  }
 ],
 "metadata": {
  "kernelspec": {
   "display_name": "Python 3",
   "language": "python",
   "name": "python3"
  },
  "language_info": {
   "codemirror_mode": {
    "name": "ipython",
    "version": 3
   },
   "file_extension": ".py",
   "mimetype": "text/x-python",
   "name": "python",
   "nbconvert_exporter": "python",
   "pygments_lexer": "ipython3",
   "version": "3.7.4"
  }
 },
 "nbformat": 4,
 "nbformat_minor": 2
}
