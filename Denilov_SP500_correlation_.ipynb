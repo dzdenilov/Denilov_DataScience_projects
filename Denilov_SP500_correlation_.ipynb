{
 "cells": [
  {
   "cell_type": "code",
   "execution_count": 1,
   "metadata": {},
   "outputs": [],
   "source": [
    "import pandas as pd\n",
    "import numpy as np\n",
    "import matplotlib.pyplot as plt\n",
    "from datetime import datetime\n",
    "from sklearn.model_selection import train_test_split\n",
    "from sklearn.metrics import mean_absolute_error\n",
    "from catboost import CatBoostRegressor\n",
    "\n",
    "xls = pd.ExcelFile('/Users/maga/Downloads/data_task.xlsx')"
   ]
  },
  {
   "cell_type": "code",
   "execution_count": 51,
   "metadata": {},
   "outputs": [],
   "source": [
    "nikkei500 = pd.read_excel(xls, 'NIKKEI 225', parse_dates=[['Date','Time']])\n",
    "dj_euro_stoxx50 = pd.read_excel(xls, 'DJ EURO STOXX 50', parse_dates=[['Date','Time']])\n",
    "sp500 = pd.read_excel(xls, 'SP500', parse_dates=[['Date','Time']])\n",
    "ftse_china_a50 = pd.read_excel(xls, 'FTSE China A50', parse_dates=[['Date','Time']])"
   ]
  },
  {
   "cell_type": "markdown",
   "metadata": {},
   "source": [
    "Для оценки влияния я решил через метод временных рядов смотреть прирост или упадка индекса по Close минутных свечек. Затем сделать через градиентный бустинг модель по предсказыванию процентного роста у Азиатского рынка. Тестируем модель на Азиатской  тестовой выборке, смотрим ошибку модели, затем тестируем эту же \"азиатскую\" модель, но уже на Европейский и Американский рынок. Если у модели в целом небольшая ошибка между фактическими и предсказанными значениями и самое главное ее ошибка приближенно к Европейской или Американской выборке - то можно сказать, что \"Азиатские\" признаки, которые одинаково условно хорошо предсказывают и свою выборку и Европа/США - Между Азитаским индексом и Западом имеется хорошая взаимосвязь.  "
   ]
  },
  {
   "cell_type": "markdown",
   "metadata": {},
   "source": [
    "# Этапы работы"
   ]
  },
  {
   "cell_type": "markdown",
   "metadata": {},
   "source": [
    "1) Подготовка функций для перевода во временной ряд и функция модели градиентного бустинга\n",
    "<br>\n",
    "2) Анализ и сравнение азиатских моделей на выборках из Европейского и Американского рынка - расчет и разницу MAE\n",
    "<br>\n",
    "3) Список моделей и сравнение разницы MAE в каждом кейсе между Японским и Китайским рынков\n",
    "<br>\n",
    "4) Итоговое решение"
   ]
  },
  {
   "cell_type": "markdown",
   "metadata": {},
   "source": [
    "# 0. Предрасчетные функции, которые будем использовать для всех Кейсов условий"
   ]
  },
  {
   "cell_type": "code",
   "execution_count": 193,
   "metadata": {},
   "outputs": [],
   "source": [
    "#h - сколько часов прибавляем для перевод с EST (sp500 время) на другие рынки\n",
    "#nikkei - +14 (Tokyo)\n",
    "#dj euro - +6 (Frankfurt)\n",
    "#china - +13 (Hong-Kong)\n",
    "\n",
    "def time_changing(data, time_sample, h):\n",
    "    \n",
    "    df = data[['Date_Time','Close']].query('Date_Time > \"2020.06.01 00:00:00\"')\n",
    "    df['Date_Time'] = df['Date_Time'] + pd.DateOffset(hours = h)\n",
    "    df = df.set_index('Date_Time')\n",
    "    df.sort_index(inplace=True)\n",
    "\n",
    "    df = df.resample(time_sample, base = 1).mean()\n",
    "\n",
    "    df['growth_rate'] = df.pct_change(fill_method='ffill', periods = 1)*100\n",
    "    df.drop('Close', axis = 1, inplace=True)\n",
    "    df = df.iloc[1:]\n",
    "    \n",
    "    return df\n",
    "\n",
    "nik = time_changing(nikkei500, '10min', 14) #10"
   ]
  },
  {
   "cell_type": "code",
   "execution_count": 194,
   "metadata": {},
   "outputs": [
    {
     "data": {
      "text/plain": [
       "<matplotlib.axes._subplots.AxesSubplot at 0x7f9896412350>"
      ]
     },
     "execution_count": 194,
     "metadata": {},
     "output_type": "execute_result"
    },
    {
     "data": {
      "image/png": "[encoded data removed]",
      "text/plain": [
       "<Figure size 432x288 with 1 Axes>"
      ]
     },
     "metadata": {
      "needs_background": "light"
     },
     "output_type": "display_data"
    }
   ],
   "source": [
    "nik.plot()"
   ]
  },
  {
   "cell_type": "code",
   "execution_count": 195,
   "metadata": {},
   "outputs": [],
   "source": [
    "#nik = nik - nik.shift()\n",
    "#nik['mean'] = nik['growth_rate'].rolling(15).mean()\n",
    "#nik['std'] = nik['growth_rate'].rolling(15).std()\n",
    "#nik.plot()"
   ]
  },
  {
   "cell_type": "code",
   "execution_count": 196,
   "metadata": {},
   "outputs": [],
   "source": [
    "def make_features(data, max_lag, rolling_mean_size):\n",
    "    data['year'] = data.index.year\n",
    "    data['month'] = data.index.month\n",
    "    data['day'] = data.index.day\n",
    "    data['dayofweek'] = data.index.dayofweek\n",
    "    data['hour'] = data.index.hour\n",
    "    data['minute'] = data.index.minute\n",
    "    \n",
    "    for lag in range(1, max_lag + 1):\n",
    "        data['lag_{}'.format(lag)] = data['growth_rate'].shift(lag)\n",
    "\n",
    "    data['rolling_mean'] = data['growth_rate'].shift().rolling(rolling_mean_size).mean()"
   ]
  },
  {
   "cell_type": "code",
   "execution_count": 197,
   "metadata": {},
   "outputs": [],
   "source": [
    "def model_pred(data):\n",
    "    \n",
    "    make_features(data, 6, 5)\n",
    "\n",
    "    train, test = train_test_split(data, shuffle=False, test_size=0.2)\n",
    "    train = train.dropna()\n",
    "\n",
    "    train_1 = train.drop(['growth_rate'],axis=1)\n",
    "    train_2 = train['growth_rate']\n",
    "\n",
    "    test_1 = test.drop(['growth_rate'],axis=1)\n",
    "    test_2 = test['growth_rate']\n",
    "\n",
    "    model = CatBoostRegressor(iterations=5,\n",
    "                          learning_rate=1,\n",
    "                          depth=4, verbose = False)\n",
    "\n",
    "    model.fit(train_1,train_2)\n",
    "\n",
    "    pred = model.predict(test_1)\n",
    "    \n",
    "    return model, pred, test_2, test_1"
   ]
  },
  {
   "cell_type": "markdown",
   "metadata": {},
   "source": [
    "# 1) Азиатский рынок и европейский рынок (полная сессия)"
   ]
  },
  {
   "cell_type": "code",
   "execution_count": 198,
   "metadata": {},
   "outputs": [
    {
     "name": "stdout",
     "output_type": "stream",
     "text": [
      "MAE тестовой выборки:  0.03386286803014968\n"
     ]
    },
    {
     "data": {
      "image/png": "[encoded data removed]",
      "text/plain": [
       "<Figure size 432x288 with 1 Axes>"
      ]
     },
     "metadata": {
      "needs_background": "light"
     },
     "output_type": "display_data"
    }
   ],
   "source": [
    "model, pred, test_2, test_1 = model_pred(nik)\n",
    "\n",
    "print(\"MAE тестовой выборки: \", mean_absolute_error(test_2 , pred))\n",
    "plt.hist(test_2, label = 'test')\n",
    "plt.hist(pred, label = 'predict')\n",
    "plt.legend()\n",
    "\n",
    "mae_nik_full = mean_absolute_error(test_2 , pred)\n",
    "model_jp_full_session = model"
   ]
  },
  {
   "cell_type": "code",
   "execution_count": 199,
   "metadata": {},
   "outputs": [
    {
     "name": "stdout",
     "output_type": "stream",
     "text": [
      "MAE тестовой выборки:  0.033501586925853574\n"
     ]
    },
    {
     "data": {
      "image/png": "[encoded data removed]",
      "text/plain": [
       "<Figure size 432x288 with 1 Axes>"
      ]
     },
     "metadata": {
      "needs_background": "light"
     },
     "output_type": "display_data"
    }
   ],
   "source": [
    "dj_euro = time_changing(dj_euro_stoxx50, '10Min', 6) #10\n",
    "\n",
    "euro_model, euro_pred, eu_test_2, eu_test_1 = model_pred(dj_euro)\n",
    "\n",
    "\"Используем модель азиатиского рынка на тестовую выборку у европейского \"\n",
    "\n",
    "predict_eu = model.predict(eu_test_1)\n",
    "\n",
    "print(\"MAE тестовой выборки: \", mean_absolute_error(eu_test_2 , predict_eu))\n",
    "plt.hist(eu_test_2, label = 'test')\n",
    "plt.hist(predict_eu, label = 'predict')\n",
    "plt.legend()\n",
    "\n",
    "\"\"\"Соотвественно, можно сказать, что модель с азиатского прогнозирует выборку из европейского практическая совпадая, что можно сказать\n",
    "влияние одного рынка на другое имеется, учитывая, что ошибка MAE у Европейского и Японского совпадает, и им\"\"\"\n",
    "\n",
    "\"\"\"Модели с большой точностью не попадают тк разницы цен не очень велики, но верно показывает в каком направлении двигается рынок\"\"\"\n",
    "\n",
    "mae_eu_full = mean_absolute_error(eu_test_2 , predict_eu)\n",
    "mae_jp_eu_diff = mae_eu_full - mae_nik_full"
   ]
  },
  {
   "cell_type": "code",
   "execution_count": 200,
   "metadata": {},
   "outputs": [
    {
     "name": "stdout",
     "output_type": "stream",
     "text": [
      "MAE тестовой выборки:  0.02839296102941917\n"
     ]
    },
    {
     "data": {
      "image/png": "[encoded data removed]",
      "text/plain": [
       "<Figure size 432x288 with 1 Axes>"
      ]
     },
     "metadata": {
      "needs_background": "light"
     },
     "output_type": "display_data"
    }
   ],
   "source": [
    "china = time_changing(ftse_china_a50, '10Min', 13) #10\n",
    "\n",
    "model, pred, test_2, test_1 = model_pred(china)\n",
    "\n",
    "print(\"MAE тестовой выборки: \", mean_absolute_error(test_2 , pred))\n",
    "plt.hist(test_2, label = 'test')\n",
    "plt.hist(pred, label = 'predict')\n",
    "plt.legend()\n",
    "\n",
    "model_china_full_session = model\n",
    "mae_china_full = mean_absolute_error(test_2 , pred)"
   ]
  },
  {
   "cell_type": "code",
   "execution_count": 201,
   "metadata": {},
   "outputs": [
    {
     "name": "stdout",
     "output_type": "stream",
     "text": [
      "MAE тестовой выборки:  0.03398435971505052\n"
     ]
    },
    {
     "data": {
      "image/png": "[encoded data removed]",
      "text/plain": [
       "<Figure size 432x288 with 1 Axes>"
      ]
     },
     "metadata": {
      "needs_background": "light"
     },
     "output_type": "display_data"
    }
   ],
   "source": [
    "predict_eu = model.predict(eu_test_1)\n",
    "\n",
    "\"Аналогично смотрим Китайский и Европейский рынок\"\n",
    "\n",
    "print(\"MAE тестовой выборки: \", mean_absolute_error(eu_test_2 , predict_eu))\n",
    "plt.hist(eu_test_2, label = 'test')\n",
    "plt.hist(predict_eu, label = 'predict')\n",
    "plt.legend()\n",
    "\n",
    "\"\"\"Ошибки MAE у Китайского и Европейского разнятся на 0.06%, влияние имеется, но слабее, чем у Японского \"\"\"\n",
    "\n",
    "mae_eu_full = mean_absolute_error(eu_test_2 , predict_eu)\n",
    "mae_ch_eu_diff =  mae_eu_full - mae_china_full"
   ]
  },
  {
   "cell_type": "markdown",
   "metadata": {},
   "source": [
    "# 2) Азиатский рынок и европейский рынок (первый час торгов)"
   ]
  },
  {
   "cell_type": "code",
   "execution_count": 202,
   "metadata": {},
   "outputs": [],
   "source": [
    "start = datetime.strptime('09:00:00', '%H:%M:%S').time()\n",
    "end = datetime.strptime('10:00:00', '%H:%M:%S').time()\n",
    "\n",
    "\n",
    "nik1 = nikkei500[nikkei500['Date_Time'].dt.time.between(start, end)]\n",
    "dj_euro1 = dj_euro_stoxx50[dj_euro_stoxx50['Date_Time'].dt.time.between(start, end)]\n",
    "china1 = ftse_china_a50[ftse_china_a50['Date_Time'].dt.time.between(start, end)]\n",
    "\n",
    "nik = time_changing(nik1, '1Min', 14)\n",
    "dj_euro = time_changing(dj_euro1, '1Min', 6)\n",
    "china = time_changing(china1, '1Min', 13)"
   ]
  },
  {
   "cell_type": "code",
   "execution_count": 203,
   "metadata": {},
   "outputs": [
    {
     "name": "stdout",
     "output_type": "stream",
     "text": [
      "MAE тестовой выборки:  0.00121206080255125\n"
     ]
    },
    {
     "data": {
      "image/png": "[encoded data removed]",
      "text/plain": [
       "<Figure size 432x288 with 1 Axes>"
      ]
     },
     "metadata": {
      "needs_background": "light"
     },
     "output_type": "display_data"
    }
   ],
   "source": [
    "model, pred, test_2, test_1 = model_pred(nik)\n",
    "\n",
    "print(\"MAE тестовой выборки: \", mean_absolute_error(test_2 , pred))\n",
    "plt.hist(test_2, label = 'test')\n",
    "plt.hist(pred, label = 'predict')\n",
    "plt.legend()\n",
    "\n",
    "model_jp_first_session = model\n",
    "mae_jp_first = mean_absolute_error(test_2 , pred)"
   ]
  },
  {
   "cell_type": "code",
   "execution_count": 204,
   "metadata": {},
   "outputs": [
    {
     "name": "stdout",
     "output_type": "stream",
     "text": [
      "MAE тестовой выборки:  0.03358341138487048\n"
     ]
    },
    {
     "data": {
      "image/png": "[encoded data removed]",
      "text/plain": [
       "<Figure size 432x288 with 1 Axes>"
      ]
     },
     "metadata": {
      "needs_background": "light"
     },
     "output_type": "display_data"
    }
   ],
   "source": [
    "predict_eu = model.predict(eu_test_1)\n",
    "\n",
    "print(\"MAE тестовой выборки: \", mean_absolute_error(eu_test_2 , predict_eu))\n",
    "plt.hist(eu_test_2, label = 'test')\n",
    "plt.hist(predict_eu, label = 'predict')\n",
    "plt.legend()\n",
    "\n",
    "\"В следствии большой разности ошибок MAE, то Японский на Европейский в первый час торгов влияние не имеет\"\n",
    "\n",
    "mae_eu_first = mean_absolute_error(eu_test_2 , predict_eu)\n",
    "mae_jp_eu_first_diff = mae_eu_first - mae_jp_first"
   ]
  },
  {
   "cell_type": "code",
   "execution_count": 205,
   "metadata": {},
   "outputs": [
    {
     "name": "stdout",
     "output_type": "stream",
     "text": [
      "MAE тестовой выборки:  0.0010342595398429055\n"
     ]
    },
    {
     "data": {
      "image/png": "[encoded data removed]",
      "text/plain": [
       "<Figure size 432x288 with 1 Axes>"
      ]
     },
     "metadata": {
      "needs_background": "light"
     },
     "output_type": "display_data"
    }
   ],
   "source": [
    "model, pred, test_2, test_1 = model_pred(china)\n",
    "\n",
    "print(\"MAE тестовой выборки: \", mean_absolute_error(test_2 , pred))\n",
    "plt.hist(test_2, label = 'test')\n",
    "plt.hist(pred, label = 'predict')\n",
    "plt.legend()\n",
    "\n",
    "model_ch_first_session = model\n",
    "mae_ch_first = mean_absolute_error(test_2 , pred)"
   ]
  },
  {
   "cell_type": "code",
   "execution_count": 206,
   "metadata": {},
   "outputs": [
    {
     "name": "stdout",
     "output_type": "stream",
     "text": [
      "MAE тестовой выборки:  0.0334487593507684\n"
     ]
    },
    {
     "data": {
      "image/png": "[encoded data removed]",
      "text/plain": [
       "<Figure size 432x288 with 1 Axes>"
      ]
     },
     "metadata": {
      "needs_background": "light"
     },
     "output_type": "display_data"
    }
   ],
   "source": [
    "predict_eu = model.predict(eu_test_1)\n",
    "\n",
    "\"Аналогично смотрим Китайский и Европейский рынок\"\n",
    "\n",
    "print(\"MAE тестовой выборки: \", mean_absolute_error(eu_test_2 , predict_eu))\n",
    "plt.hist(eu_test_2, label = 'test')\n",
    "plt.hist(predict_eu, label = 'predict')\n",
    "plt.legend()\n",
    "\n",
    "\"Аналогично с Китайским и Европейским рынками - влияние не имеется\"\n",
    "\n",
    "mae_ch_eu_first = mean_absolute_error(eu_test_2 , predict_eu)\n",
    "mae_ch_eu_first_diff = mae_ch_eu_first - mae_ch_first"
   ]
  },
  {
   "cell_type": "markdown",
   "metadata": {},
   "source": [
    "# 3) Азиатский рынок и американский рынок (полная НЕ основная сессия)"
   ]
  },
  {
   "cell_type": "code",
   "execution_count": 207,
   "metadata": {},
   "outputs": [],
   "source": [
    "start = datetime.strptime('09:30:00', '%H:%M:%S').time()\n",
    "end = datetime.strptime('16:00:00', '%H:%M:%S').time()\n",
    "\n",
    "\n",
    "nik_1 = nikkei500[nikkei500['Date_Time'].dt.time < start]\n",
    "nik_2 = nikkei500[nikkei500['Date_Time'].dt.time > end]                \n",
    "nik_3 = nik_1.merge(nik_2, how = 'outer')\n",
    "\n",
    "dj_1 = sp500[sp500['Date_Time'].dt.time < start]\n",
    "dj_2 = sp500[sp500['Date_Time'].dt.time > end]                \n",
    "dj_3 = dj_1.merge(dj_2, how = 'outer')\n",
    "\n",
    "ch_1 = ftse_china_a50[ftse_china_a50['Date_Time'].dt.time < start]\n",
    "ch_2 = ftse_china_a50[ftse_china_a50['Date_Time'].dt.time > end]                \n",
    "ch_3 = ch_1.merge(ch_2, how = 'outer')\n",
    "\n",
    "\n",
    "nik = time_changing(nik_3, '10Min', 14) #10\n",
    "us500 = time_changing(dj_3, '10Min', 0)\n",
    "china = time_changing(ch_3, '10Min', 13)"
   ]
  },
  {
   "cell_type": "code",
   "execution_count": 208,
   "metadata": {},
   "outputs": [
    {
     "name": "stdout",
     "output_type": "stream",
     "text": [
      "MAE тестовой выборки:  0.02737048890611321\n"
     ]
    },
    {
     "data": {
      "image/png": "[encoded data removed]",
      "text/plain": [
       "<Figure size 432x288 with 1 Axes>"
      ]
     },
     "metadata": {
      "needs_background": "light"
     },
     "output_type": "display_data"
    }
   ],
   "source": [
    "model, pred, test_2, test_1 = model_pred(nik)\n",
    "\n",
    "print(\"MAE тестовой выборки: \", mean_absolute_error(test_2 , pred))\n",
    "plt.hist(test_2, label = 'test')\n",
    "plt.hist(pred, label = 'predict')\n",
    "plt.legend()\n",
    "\n",
    "model_jp_full_not_gen = model\n",
    "mae_jp_full_not_gen = mean_absolute_error(test_2 , pred)"
   ]
  },
  {
   "cell_type": "code",
   "execution_count": 209,
   "metadata": {},
   "outputs": [
    {
     "name": "stdout",
     "output_type": "stream",
     "text": [
      "MAE тестовой выборки:  0.022173223784669103\n"
     ]
    },
    {
     "data": {
      "image/png": "[encoded data removed]",
      "text/plain": [
       "<Figure size 432x288 with 1 Axes>"
      ]
     },
     "metadata": {
      "needs_background": "light"
     },
     "output_type": "display_data"
    }
   ],
   "source": [
    "us_model, us_pred, us_test_2, us_test_1 = model_pred(us500)\n",
    "\n",
    "predict_us = model.predict(us_test_1)\n",
    "\n",
    "print(\"MAE тестовой выборки: \", mean_absolute_error(us_test_2 , predict_us))\n",
    "plt.hist(eu_test_2, label = 'test')\n",
    "plt.hist(predict_eu, label = 'predict')\n",
    "plt.legend()\n",
    "\n",
    "\"Разница в ошибке 0.005% между Японской модели на своей выборке и на Американской выборке. Разница не велика при разбросе до 0.5%\"\n",
    "\n",
    "mae_us_not_full = mean_absolute_error(us_test_2 , predict_us)\n",
    "mae_jp_us_not_full_diff = mae_eu_not_full - mae_jp_full_not_gen"
   ]
  },
  {
   "cell_type": "code",
   "execution_count": 210,
   "metadata": {},
   "outputs": [
    {
     "name": "stdout",
     "output_type": "stream",
     "text": [
      "MAE тестовой выборки:  0.02513006533105326\n"
     ]
    },
    {
     "data": {
      "image/png": "[encoded data removed]",
      "text/plain": [
       "<Figure size 432x288 with 1 Axes>"
      ]
     },
     "metadata": {
      "needs_background": "light"
     },
     "output_type": "display_data"
    }
   ],
   "source": [
    "model, pred, test_2, test_1 = model_pred(china)\n",
    "\n",
    "print(\"MAE тестовой выборки: \", mean_absolute_error(test_2 , pred))\n",
    "plt.hist(test_2, label = 'test')\n",
    "plt.hist(pred, label = 'predict')\n",
    "plt.legend()\n",
    "\n",
    "model_ch_full_not_gen = model\n",
    "mae_ch_not_full = mean_absolute_error(test_2 , pred) "
   ]
  },
  {
   "cell_type": "code",
   "execution_count": 211,
   "metadata": {},
   "outputs": [
    {
     "name": "stdout",
     "output_type": "stream",
     "text": [
      "MAE тестовой выборки:  0.022418796543420525\n"
     ]
    },
    {
     "data": {
      "image/png": "[encoded data removed]",
      "text/plain": [
       "<Figure size 432x288 with 1 Axes>"
      ]
     },
     "metadata": {
      "needs_background": "light"
     },
     "output_type": "display_data"
    }
   ],
   "source": [
    "predict_us = model.predict(us_test_1)\n",
    "\n",
    "print(\"MAE тестовой выборки: \", mean_absolute_error(us_test_2 , predict_us))\n",
    "plt.hist(eu_test_2, label = 'test')\n",
    "plt.hist(predict_eu, label = 'predict')\n",
    "plt.legend()\n",
    "\n",
    "\"C Китайским рынком у Америки на 0.003%, влияние ненамного сильнее, чем у Америки с Европой\"\n",
    "\n",
    "mae_ch_us_not_full = mean_absolute_error(us_test_2 , predict_us)\n",
    "mae_ch_us_not_full_diff = mae_ch_us_not_full - mae_ch_not_full"
   ]
  },
  {
   "cell_type": "markdown",
   "metadata": {},
   "source": [
    "# 4) Азиатский рынок и американский рынок (полная основная сессия)"
   ]
  },
  {
   "cell_type": "code",
   "execution_count": 212,
   "metadata": {},
   "outputs": [],
   "source": [
    "start = datetime.strptime('09:30:00', '%H:%M:%S').time()\n",
    "end = datetime.strptime('16:00:00', '%H:%M:%S').time()\n",
    "\n",
    "\n",
    "nik1 = nikkei500[nikkei500['Date_Time'].dt.time.between(start, end)]\n",
    "dj_euro1 = dj_euro_stoxx50[dj_euro_stoxx50['Date_Time'].dt.time.between(start, end)]\n",
    "china1 = ftse_china_a50[ftse_china_a50['Date_Time'].dt.time.between(start, end)]\n",
    "\n",
    "nik = time_changing(nik1, '5Min', 14) #5\n",
    "us500 = time_changing(dj_euro1, '5Min', 0)\n",
    "china = time_changing(china1, '5Min', 13)"
   ]
  },
  {
   "cell_type": "code",
   "execution_count": 213,
   "metadata": {},
   "outputs": [
    {
     "name": "stdout",
     "output_type": "stream",
     "text": [
      "MAE тестовой выборки:  0.00951769046900962\n"
     ]
    },
    {
     "data": {
      "image/png": "[encoded data removed]",
      "text/plain": [
       "<Figure size 432x288 with 1 Axes>"
      ]
     },
     "metadata": {
      "needs_background": "light"
     },
     "output_type": "display_data"
    }
   ],
   "source": [
    "model, pred, test_2, test_1 = model_pred(nik)\n",
    "\n",
    "print(\"MAE тестовой выборки: \", mean_absolute_error(test_2 , pred))\n",
    "plt.hist(test_2, label = 'test')\n",
    "plt.hist(pred, label = 'predict')\n",
    "plt.legend()\n",
    "\n",
    "model_jp_full_gen = model\n",
    "mae_jp_full_gen = mean_absolute_error(test_2 , pred)"
   ]
  },
  {
   "cell_type": "code",
   "execution_count": 214,
   "metadata": {},
   "outputs": [
    {
     "name": "stdout",
     "output_type": "stream",
     "text": [
      "MAE тестовой выборки:  0.01034174188422457\n"
     ]
    },
    {
     "data": {
      "image/png": "[encoded data removed]",
      "text/plain": [
       "<Figure size 432x288 with 1 Axes>"
      ]
     },
     "metadata": {
      "needs_background": "light"
     },
     "output_type": "display_data"
    }
   ],
   "source": [
    "us_model, us_pred, us_test_2, us_test_1 = model_pred(us500)\n",
    "\n",
    "predict_us = model.predict(us_test_1)\n",
    "\n",
    "print(\"MAE тестовой выборки: \", mean_absolute_error(us_test_2 , predict_us))\n",
    "plt.hist(eu_test_2, label = 'test')\n",
    "plt.hist(predict_eu, label = 'predict')\n",
    "plt.legend()\n",
    "\n",
    "mae_us_full_gen = mean_absolute_error(us_test_2 , predict_us)\n",
    "mae_jp_us_full_gen_diff = mae_us_full_gen - mae_jp_full_gen"
   ]
  },
  {
   "cell_type": "code",
   "execution_count": 215,
   "metadata": {},
   "outputs": [
    {
     "name": "stdout",
     "output_type": "stream",
     "text": [
      "MAE тестовой выборки:  0.006947149247334368\n"
     ]
    },
    {
     "data": {
      "image/png": "[encoded data removed]",
      "text/plain": [
       "<Figure size 432x288 with 1 Axes>"
      ]
     },
     "metadata": {
      "needs_background": "light"
     },
     "output_type": "display_data"
    }
   ],
   "source": [
    "model, pred, test_2, test_1 = model_pred(china)\n",
    "\n",
    "print(\"MAE тестовой выборки: \", mean_absolute_error(test_2 , pred))\n",
    "plt.hist(test_2, label = 'test')\n",
    "plt.hist(pred, label = 'predict')\n",
    "plt.legend()\n",
    "\n",
    "model_ch_full_gen = model\n",
    "mae_ch_full_gen = mean_absolute_error(test_2 , pred)"
   ]
  },
  {
   "cell_type": "code",
   "execution_count": 216,
   "metadata": {},
   "outputs": [
    {
     "name": "stdout",
     "output_type": "stream",
     "text": [
      "MAE тестовой выборки:  0.010914357743752101\n"
     ]
    },
    {
     "data": {
      "image/png": "[encoded data removed]",
      "text/plain": [
       "<Figure size 432x288 with 1 Axes>"
      ]
     },
     "metadata": {
      "needs_background": "light"
     },
     "output_type": "display_data"
    }
   ],
   "source": [
    "predict_us = model.predict(us_test_1)\n",
    "\n",
    "print(\"MAE тестовой выборки: \", mean_absolute_error(us_test_2 , predict_us))\n",
    "plt.hist(eu_test_2, label = 'test')\n",
    "plt.hist(predict_eu, label = 'predict')\n",
    "plt.legend()\n",
    "\n",
    "mae_us_full_gen = mean_absolute_error(us_test_2 , predict_us)\n",
    "mae_ch_us_full_gen_diff = mae_us_full_gen - mae_ch_full_gen"
   ]
  },
  {
   "cell_type": "markdown",
   "metadata": {},
   "source": [
    "Японский и Американский имееют малу разницу в 0.01% и соотвественно у Китая с Америкой разница в 0.03%"
   ]
  },
  {
   "cell_type": "markdown",
   "metadata": {},
   "source": [
    "# 5) Азиатский рынок и американский рынок (первый час торгов основной  сессии)\n"
   ]
  },
  {
   "cell_type": "code",
   "execution_count": 217,
   "metadata": {},
   "outputs": [],
   "source": [
    "start = datetime.strptime('09:30:00', '%H:%M:%S').time()\n",
    "end = datetime.strptime('10:30:00', '%H:%M:%S').time()\n",
    "\n",
    "\n",
    "nik1 = nikkei500[nikkei500['Date_Time'].dt.time.between(start, end)]\n",
    "dj_euro1 = dj_euro_stoxx50[dj_euro_stoxx50['Date_Time'].dt.time.between(start, end)]\n",
    "china1 = ftse_china_a50[ftse_china_a50['Date_Time'].dt.time.between(start, end)]\n",
    "\n",
    "nik = time_changing(nik1, '1Min', 14)\n",
    "us500 = time_changing(dj_euro1, '1Min', 0)\n",
    "china = time_changing(china1, '1Min', 13)"
   ]
  },
  {
   "cell_type": "code",
   "execution_count": 218,
   "metadata": {},
   "outputs": [
    {
     "name": "stdout",
     "output_type": "stream",
     "text": [
      "MAE тестовой выборки:  0.0014117303816431918\n"
     ]
    },
    {
     "data": {
      "image/png": "[encoded data removed]",
      "text/plain": [
       "<Figure size 432x288 with 1 Axes>"
      ]
     },
     "metadata": {
      "needs_background": "light"
     },
     "output_type": "display_data"
    }
   ],
   "source": [
    "model, pred, test_2, test_1 = model_pred(nik)\n",
    "\n",
    "print(\"MAE тестовой выборки: \", mean_absolute_error(test_2 , pred))\n",
    "plt.hist(test_2, label = 'test')\n",
    "plt.hist(pred, label = 'predict')\n",
    "plt.legend()\n",
    "\n",
    "model_jp_first_gen = model\n",
    "mae_jp_first_gen = mean_absolute_error(test_2 , pred)"
   ]
  },
  {
   "cell_type": "code",
   "execution_count": 219,
   "metadata": {},
   "outputs": [
    {
     "name": "stdout",
     "output_type": "stream",
     "text": [
      "MAE тестовой выборки:  0.0015487968056956808\n"
     ]
    },
    {
     "data": {
      "image/png": "[encoded data removed]",
      "text/plain": [
       "<Figure size 432x288 with 1 Axes>"
      ]
     },
     "metadata": {
      "needs_background": "light"
     },
     "output_type": "display_data"
    }
   ],
   "source": [
    "us_model, us_pred, us_test_2, us_test_1 = model_pred(us500)\n",
    "\n",
    "predict_us = model.predict(us_test_1)\n",
    "\n",
    "print(\"MAE тестовой выборки: \", mean_absolute_error(us_test_2 , predict_us))\n",
    "plt.hist(eu_test_2, label = 'test')\n",
    "plt.hist(predict_eu, label = 'predict')\n",
    "plt.legend()\n",
    "\n",
    "mae_us_first_gen = mean_absolute_error(us_test_2 , predict_us)\n",
    "mae_jp_us_first_gen_diff = mae_us_first_gen - mae_jp_first_gen"
   ]
  },
  {
   "cell_type": "code",
   "execution_count": 220,
   "metadata": {},
   "outputs": [
    {
     "name": "stdout",
     "output_type": "stream",
     "text": [
      "MAE тестовой выборки:  0.0013386149310602889\n"
     ]
    },
    {
     "data": {
      "image/png": "[encoded data removed]",
      "text/plain": [
       "<Figure size 432x288 with 1 Axes>"
      ]
     },
     "metadata": {
      "needs_background": "light"
     },
     "output_type": "display_data"
    }
   ],
   "source": [
    "model, pred, test_2, test_1 = model_pred(china)\n",
    "\n",
    "print(\"MAE тестовой выборки: \", mean_absolute_error(test_2 , pred))\n",
    "plt.hist(test_2, label = 'test')\n",
    "plt.hist(pred, label = 'predict')\n",
    "plt.legend()\n",
    "\n",
    "model_ch_first_gen = model\n",
    "mae_ch_first_gen = mean_absolute_error(test_2 , pred)"
   ]
  },
  {
   "cell_type": "code",
   "execution_count": 221,
   "metadata": {},
   "outputs": [
    {
     "name": "stdout",
     "output_type": "stream",
     "text": [
      "MAE тестовой выборки:  0.0017447827608127204\n"
     ]
    },
    {
     "data": {
      "image/png": "[encoded data removed]",
      "text/plain": [
       "<Figure size 432x288 with 1 Axes>"
      ]
     },
     "metadata": {
      "needs_background": "light"
     },
     "output_type": "display_data"
    }
   ],
   "source": [
    "predict_us = model.predict(us_test_1)\n",
    "\n",
    "print(\"MAE тестовой выборки: \", mean_absolute_error(us_test_2 , predict_us))\n",
    "plt.hist(eu_test_2, label = 'test')\n",
    "plt.hist(predict_eu, label = 'predict')\n",
    "plt.legend()\n",
    "\n",
    "mae_us_first_gen = mean_absolute_error(us_test_2 , predict_us)\n",
    "mae_ch_us_first_gen_diff = mae_us_first_gen - mae_ch_first_gen"
   ]
  },
  {
   "cell_type": "markdown",
   "metadata": {},
   "source": [
    "Первый час торгов основной сессии у Азиатского рынка с Американским в целом очень малый разброс процента доходности, тут нельзя сказать точно имеет ли влияния друг на друга"
   ]
  },
  {
   "cell_type": "markdown",
   "metadata": {},
   "source": [
    "Список всех моделей:"
   ]
  },
  {
   "cell_type": "code",
   "execution_count": 222,
   "metadata": {},
   "outputs": [
    {
     "data": {
      "text/plain": [
       "'model_jp_full_not_gen\\nmodel_ch_full_not_gen\\n\\nmodel_jp_full_gen\\nmodel_ch_full_gen\\n\\nmodel_jp_first_gen\\nmodel_ср_first_gen'"
      ]
     },
     "execution_count": 222,
     "metadata": {},
     "output_type": "execute_result"
    }
   ],
   "source": [
    "#Модели для оценки европейского рынка - полная сессия и первый час торгов - Японская и Китайская\n",
    "\"\"\"model_jp_full_session\n",
    "model_china_full_session\n",
    "\n",
    "model_jp_first_session\n",
    "model_ch_first_session\"\"\"\n",
    "\n",
    "\n",
    "#Модели для оценки Американского рынка - полная не основная сессия, полная основная и первый час основной - Японская и Китайская\n",
    "\"\"\"model_jp_full_not_gen\n",
    "model_ch_full_not_gen\n",
    "\n",
    "model_jp_full_gen\n",
    "model_ch_full_gen\n",
    "\n",
    "model_jp_first_gen\n",
    "model_ср_first_gen\"\"\""
   ]
  },
  {
   "cell_type": "markdown",
   "metadata": {},
   "source": [
    "Ниже наблюдаем разности ошибок MAE азиатских моделей c Европейским и Американским рынком (отрицательные значения говорят нам о том, что на тестовой европейской или американской выборке азиатская модель предсказала лучше, чем на выборке из своего рынка)"
   ]
  },
  {
   "cell_type": "code",
   "execution_count": 223,
   "metadata": {},
   "outputs": [
    {
     "name": "stdout",
     "output_type": "stream",
     "text": [
      "Полная основная сессия\n",
      "Японская модель на Европейском рынке:  -0.0003612811042961045\n",
      "Китайская модель на Европейском рынке:  0.005591398685631348\n"
     ]
    }
   ],
   "source": [
    "print('Полная основная сессия')\n",
    "print(\"Японская модель на Европейском рынке: \", mae_jp_eu_diff)\n",
    "print(\"Китайская модель на Европейском рынке: \", mae_ch_eu_diff)"
   ]
  },
  {
   "cell_type": "code",
   "execution_count": 224,
   "metadata": {},
   "outputs": [
    {
     "name": "stdout",
     "output_type": "stream",
     "text": [
      "Первый час торгов\n",
      "Японская модель на Европейском рынке:  0.032371350582319235\n",
      "Китайская модель на Европейском рынке:  0.0324144998109255\n"
     ]
    }
   ],
   "source": [
    "print('Первый час торгов')\n",
    "print(\"Японская модель на Европейском рынке: \", mae_jp_eu_first_diff)\n",
    "print(\"Китайская модель на Европейском рынке: \", mae_ch_eu_first_diff)"
   ]
  },
  {
   "cell_type": "code",
   "execution_count": 225,
   "metadata": {},
   "outputs": [
    {
     "name": "stdout",
     "output_type": "stream",
     "text": [
      "Полная не основная сессия\n",
      "Японская модель на Американском рынке:  -0.005197265121444108\n",
      "Китайская модель на Американском рынке:  -0.002711268787632736\n"
     ]
    }
   ],
   "source": [
    "print('Полная не основная сессия')\n",
    "print(\"Японская модель на Американском рынке: \", mae_jp_us_not_full_diff)\n",
    "print(\"Китайская модель на Американском рынке: \", mae_ch_us_not_full_diff)"
   ]
  },
  {
   "cell_type": "code",
   "execution_count": 226,
   "metadata": {},
   "outputs": [
    {
     "name": "stdout",
     "output_type": "stream",
     "text": [
      "Полная основная сессия\n",
      "Японская модель на Американском рынке:  0.0008240514152149502\n",
      "Китайская модель на Американском рынке:  0.003967208496417733\n"
     ]
    }
   ],
   "source": [
    "print('Полная основная сессия')\n",
    "print(\"Японская модель на Американском рынке: \", mae_jp_us_full_gen_diff)\n",
    "print(\"Китайская модель на Американском рынке: \", mae_ch_us_full_gen_diff)"
   ]
  },
  {
   "cell_type": "code",
   "execution_count": 227,
   "metadata": {},
   "outputs": [
    {
     "name": "stdout",
     "output_type": "stream",
     "text": [
      "Первый час основной сессии\n",
      "Японская модель на Американском рынке:  0.000137066424052489\n",
      "Китайская модель на Американском рынке:  0.0004061678297524315\n"
     ]
    }
   ],
   "source": [
    "print('Первый час основной сессии')\n",
    "print(\"Японская модель на Американском рынке: \", mae_jp_us_first_gen_diff)\n",
    "print(\"Китайская модель на Американском рынке: \", mae_ch_us_first_gen_diff)"
   ]
  },
  {
   "cell_type": "markdown",
   "metadata": {},
   "source": [
    "В ходе решении кейсов зависимость была найдена у 1), 3) и 4). У 2) разница ошибки велика, а у 5) слишком малый разброс у процентных изменений цен, чтобы говорить о зависимости."
   ]
  },
  {
   "cell_type": "markdown",
   "metadata": {},
   "source": [
    "# Итог"
   ]
  },
  {
   "cell_type": "markdown",
   "metadata": {},
   "source": [
    "Соотвественно в кейсах, где выявлена зависимость берем ту модель, чья разница ошибки меньше\n",
    "\n",
    "1) В первом кейсе  - это Японская: model_jp_full_session\n",
    "<br>\n",
    "2) В третьем кейсе - это Китайская: model_ch_full_not_gen\n",
    "<br>\n",
    "3) В четвертом кейсе - это Японская: model_jp_full_gen"
   ]
  },
  {
   "cell_type": "markdown",
   "metadata": {},
   "source": [
    "НО! Зная, как отторговались в Азии лучше использовать функцию \n",
    "\n",
    "1) time_changing() на данные последнего дня в Азии\n",
    "<br>\n",
    "2) Корректировать growth_rate (процент изменения цен) на разницу ошибки из модели (growth_rate*abs(mae_diff))\n",
    "<br>\n",
    "3) Соотвественно для 1. кейса берем mae_jp_eu_diff, для 3. mae_ch_us_not_full_diff, и для 4. mae_jp_us_full_gen_diff"
   ]
  }
 ],
 "metadata": {
  "kernelspec": {
   "display_name": "Python 3",
   "language": "python",
   "name": "python3"
  },
  "language_info": {
   "codemirror_mode": {
    "name": "ipython",
    "version": 3
   },
   "file_extension": ".py",
   "mimetype": "text/x-python",
   "name": "python",
   "nbconvert_exporter": "python",
   "pygments_lexer": "ipython3",
   "version": "3.7.4"
  }
 },
 "nbformat": 4,
 "nbformat_minor": 2
}
