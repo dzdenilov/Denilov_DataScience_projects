{
  "nbformat": 4,
  "nbformat_minor": 0,
  "metadata": {
    "colab": {
      "name": "Denilov_Deni_Momentum.ipynb",
      "provenance": []
    },
    "kernelspec": {
      "name": "python3",
      "display_name": "Python 3"
    },
    "language_info": {
      "name": "python"
    }
  },
  "cells": [
    {
      "cell_type": "code",
      "metadata": {
        "colab": {
          "base_uri": "https://localhost:8080/"
        },
        "id": "Ze1k_6MUCNoZ",
        "outputId": "fc1b9b9e-786d-4f45-9096-99cf17797829"
      },
      "source": [
        "# !pip install yfinance"
      ],
      "execution_count": 4,
      "outputs": [
        {
          "output_type": "stream",
          "name": "stdout",
          "text": [
            "Collecting yfinance\n",
            "  Downloading yfinance-0.1.67-py2.py3-none-any.whl (25 kB)\n",
            "Requirement already satisfied: requests>=2.20 in /usr/local/lib/python3.7/dist-packages (from yfinance) (2.23.0)\n",
            "Collecting lxml>=4.5.1\n",
            "  Downloading lxml-4.6.4-cp37-cp37m-manylinux_2_17_x86_64.manylinux2014_x86_64.manylinux_2_24_x86_64.whl (6.3 MB)\n",
            "\u001b[K     |████████████████████████████████| 6.3 MB 5.5 MB/s \n",
            "\u001b[?25hRequirement already satisfied: numpy>=1.15 in /usr/local/lib/python3.7/dist-packages (from yfinance) (1.19.5)\n",
            "Requirement already satisfied: pandas>=0.24 in /usr/local/lib/python3.7/dist-packages (from yfinance) (1.1.5)\n",
            "Requirement already satisfied: multitasking>=0.0.7 in /usr/local/lib/python3.7/dist-packages (from yfinance) (0.0.10)\n",
            "Requirement already satisfied: pytz>=2017.2 in /usr/local/lib/python3.7/dist-packages (from pandas>=0.24->yfinance) (2018.9)\n",
            "Requirement already satisfied: python-dateutil>=2.7.3 in /usr/local/lib/python3.7/dist-packages (from pandas>=0.24->yfinance) (2.8.2)\n",
            "Requirement already satisfied: six>=1.5 in /usr/local/lib/python3.7/dist-packages (from python-dateutil>=2.7.3->pandas>=0.24->yfinance) (1.15.0)\n",
            "Requirement already satisfied: chardet<4,>=3.0.2 in /usr/local/lib/python3.7/dist-packages (from requests>=2.20->yfinance) (3.0.4)\n",
            "Requirement already satisfied: idna<3,>=2.5 in /usr/local/lib/python3.7/dist-packages (from requests>=2.20->yfinance) (2.10)\n",
            "Requirement already satisfied: certifi>=2017.4.17 in /usr/local/lib/python3.7/dist-packages (from requests>=2.20->yfinance) (2021.10.8)\n",
            "Requirement already satisfied: urllib3!=1.25.0,!=1.25.1,<1.26,>=1.21.1 in /usr/local/lib/python3.7/dist-packages (from requests>=2.20->yfinance) (1.24.3)\n",
            "Installing collected packages: lxml, yfinance\n",
            "  Attempting uninstall: lxml\n",
            "    Found existing installation: lxml 4.2.6\n",
            "    Uninstalling lxml-4.2.6:\n",
            "      Successfully uninstalled lxml-4.2.6\n",
            "Successfully installed lxml-4.6.4 yfinance-0.1.67\n"
          ]
        }
      ]
    },
    {
      "cell_type": "code",
      "metadata": {
        "id": "9Mo6cYFBebFY"
      },
      "source": [
        ""
      ],
      "execution_count": null,
      "outputs": []
    },
    {
      "cell_type": "code",
      "metadata": {
        "colab": {
          "base_uri": "https://localhost:8080/"
        },
        "id": "E02Y6ME5C5DV",
        "outputId": "9fe25dbd-88c1-4713-86a1-f05d73990962"
      },
      "source": [
        "import bs4 as bs\n",
        "import requests\n",
        "import yfinance as yf\n",
        "import datetime\n",
        "import pandas as pd\n",
        "import numpy as np\n",
        "\n",
        "resp = requests.get('http://en.wikipedia.org/wiki/List_of_S%26P_500_companies')\n",
        "soup = bs.BeautifulSoup(resp.text, 'lxml')\n",
        "table = soup.find('table', {'class': 'wikitable sortable'})\n",
        "tickers = []\n",
        "for row in table.findAll('tr')[1:21]:\n",
        "    ticker = row.findAll('td')[0].text\n",
        "    tickers.append(ticker)\n",
        "\n",
        "tickers = [s.replace('\\n', '') for s in tickers]\n",
        "start = datetime.datetime(2009,9,1)\n",
        "end = datetime.datetime(2021,9,17)\n",
        "data = yf.download(tickers, start=start, end=end, interval='1mo')['Adj Close']\n",
        "data = data.dropna()\n",
        "sp500 = yf.download('^GSPC', start=start, end=end, interval='1mo')['Adj Close']\n",
        "sp500 = sp500.dropna()\n",
        "print(data)"
      ],
      "execution_count": 382,
      "outputs": [
        {
          "output_type": "stream",
          "name": "stdout",
          "text": [
            "[*********************100%***********************]  20 of 20 completed\n",
            "[*********************100%***********************]  1 of 1 completed\n",
            "                     A         AAP  ...        LNT         MMM\n",
            "Date                                ...                       \n",
            "2013-12-01   38.062290  107.439621  ...  20.004713  111.798286\n",
            "2014-01-01   38.790314  111.510399  ...  20.144278  102.184845\n",
            "2014-02-01   37.976494  123.699699  ...  21.239988  107.398125\n",
            "2014-03-01   37.302750  122.864418  ...  22.246378  108.849976\n",
            "2014-04-01   36.048653  117.860313  ...  22.900341  111.602135\n",
            "...                ...         ...  ...        ...         ...\n",
            "2021-05-01  137.777130  187.851089  ...  56.359623  198.415100\n",
            "2021-06-01  147.432388  203.108505  ...  54.988842  195.533951\n",
            "2021-07-01  152.838547  211.031631  ...  57.720531  194.854706\n",
            "2021-08-01  175.251785  201.866302  ...  60.358994  191.704590\n",
            "2021-09-01  157.334091  207.876999  ...  55.583096  174.003937\n",
            "\n",
            "[94 rows x 20 columns]\n"
          ]
        }
      ]
    },
    {
      "cell_type": "code",
      "metadata": {
        "id": "pnwW0zogEuhZ"
      },
      "source": [
        "data = data.sort_index()\n",
        "for col in data.columns:\n",
        "  data[col] = data[col]/data[col].shift()-1\n",
        "\n",
        "sp500 = sp500.sort_index()\n",
        "sp500 = pd.DataFrame(sp500)\n",
        "sp500=sp500/sp500.shift()-1"
      ],
      "execution_count": 383,
      "outputs": []
    },
    {
      "cell_type": "code",
      "metadata": {
        "id": "2uLra4skqXqo",
        "outputId": "657d9f81-2010-47ce-eb36-479a2e0aee38",
        "colab": {
          "base_uri": "https://localhost:8080/",
          "height": 424
        }
      },
      "source": [
        "# data = data[1:].T.transform(np.sort)\n",
        "data = data[1:]\n",
        "data = data.reset_index()\n",
        "\n",
        "sp500 = sp500[1:]\n",
        "sp500 = sp500.reset_index()\n",
        "sp500"
      ],
      "execution_count": 384,
      "outputs": [
        {
          "output_type": "execute_result",
          "data": {
            "text/html": [
              "<div>\n",
              "<style scoped>\n",
              "    .dataframe tbody tr th:only-of-type {\n",
              "        vertical-align: middle;\n",
              "    }\n",
              "\n",
              "    .dataframe tbody tr th {\n",
              "        vertical-align: top;\n",
              "    }\n",
              "\n",
              "    .dataframe thead th {\n",
              "        text-align: right;\n",
              "    }\n",
              "</style>\n",
              "<table border=\"1\" class=\"dataframe\">\n",
              "  <thead>\n",
              "    <tr style=\"text-align: right;\">\n",
              "      <th></th>\n",
              "      <th>Date</th>\n",
              "      <th>Adj Close</th>\n",
              "    </tr>\n",
              "  </thead>\n",
              "  <tbody>\n",
              "    <tr>\n",
              "      <th>0</th>\n",
              "      <td>2009-10-01</td>\n",
              "      <td>-0.019762</td>\n",
              "    </tr>\n",
              "    <tr>\n",
              "      <th>1</th>\n",
              "      <td>2009-11-01</td>\n",
              "      <td>0.057364</td>\n",
              "    </tr>\n",
              "    <tr>\n",
              "      <th>2</th>\n",
              "      <td>2009-12-01</td>\n",
              "      <td>0.017771</td>\n",
              "    </tr>\n",
              "    <tr>\n",
              "      <th>3</th>\n",
              "      <td>2010-01-01</td>\n",
              "      <td>-0.036974</td>\n",
              "    </tr>\n",
              "    <tr>\n",
              "      <th>4</th>\n",
              "      <td>2010-02-01</td>\n",
              "      <td>0.028514</td>\n",
              "    </tr>\n",
              "    <tr>\n",
              "      <th>...</th>\n",
              "      <td>...</td>\n",
              "      <td>...</td>\n",
              "    </tr>\n",
              "    <tr>\n",
              "      <th>139</th>\n",
              "      <td>2021-05-01</td>\n",
              "      <td>0.005486</td>\n",
              "    </tr>\n",
              "    <tr>\n",
              "      <th>140</th>\n",
              "      <td>2021-06-01</td>\n",
              "      <td>0.022214</td>\n",
              "    </tr>\n",
              "    <tr>\n",
              "      <th>141</th>\n",
              "      <td>2021-07-01</td>\n",
              "      <td>0.022748</td>\n",
              "    </tr>\n",
              "    <tr>\n",
              "      <th>142</th>\n",
              "      <td>2021-08-01</td>\n",
              "      <td>0.028990</td>\n",
              "    </tr>\n",
              "    <tr>\n",
              "      <th>143</th>\n",
              "      <td>2021-09-01</td>\n",
              "      <td>-0.047569</td>\n",
              "    </tr>\n",
              "  </tbody>\n",
              "</table>\n",
              "<p>144 rows × 2 columns</p>\n",
              "</div>"
            ],
            "text/plain": [
              "          Date  Adj Close\n",
              "0   2009-10-01  -0.019762\n",
              "1   2009-11-01   0.057364\n",
              "2   2009-12-01   0.017771\n",
              "3   2010-01-01  -0.036974\n",
              "4   2010-02-01   0.028514\n",
              "..         ...        ...\n",
              "139 2021-05-01   0.005486\n",
              "140 2021-06-01   0.022214\n",
              "141 2021-07-01   0.022748\n",
              "142 2021-08-01   0.028990\n",
              "143 2021-09-01  -0.047569\n",
              "\n",
              "[144 rows x 2 columns]"
            ]
          },
          "metadata": {},
          "execution_count": 384
        }
      ]
    },
    {
      "cell_type": "code",
      "metadata": {
        "id": "VyhdKq0U9stI"
      },
      "source": [
        "df = data.copy()\n",
        "spx = sp500.copy()\n",
        "\n",
        "df['quarter'] = df['Date'].dt.to_period('Q')\n",
        "df = df.drop_duplicates(subset='quarter', keep=\"last\")\n",
        "df = df.set_index('Date')\n",
        "df = df.drop(['quarter'],axis=1)\n",
        "df = df.T\n",
        "\n",
        "\n",
        "\n",
        "spx['quarter'] = spx['Date'].dt.to_period('Q')\n",
        "spx = spx.drop_duplicates(subset='quarter', keep=\"last\")\n",
        "spx = spx.set_index('Date')\n",
        "spx = spx.drop(['quarter'],axis=1)\n",
        "spx = spx[17:]\n",
        "\n",
        "check_spx = spx.copy()\n",
        "spx = np.array(spx)"
      ],
      "execution_count": 385,
      "outputs": []
    },
    {
      "cell_type": "code",
      "metadata": {
        "id": "jNA_Qnl1GL50"
      },
      "source": [
        "deposit = 10000\n",
        "amount = deposit\n",
        "res_1 = []\n",
        "res_2 = []\n",
        "\n",
        "for col in df.columns:\n",
        "  df[col] = df[col].sort_values(ascending=False).head(10)\n",
        "  df = pd.DataFrame(df)\n",
        "  df['prof'] = (df[col]+1)*(amount/10)\n",
        "  revenue = df['prof'].sum()\n",
        "  income = revenue/amount - 1\n",
        "  amount = revenue\n",
        "  res_1.append(income)\n",
        "  res_2.append(revenue)"
      ],
      "execution_count": 386,
      "outputs": []
    },
    {
      "cell_type": "code",
      "metadata": {
        "id": "AYo2G3dRibew"
      },
      "source": [
        "sp_res_1 = []\n",
        "sp_res_2 = []\n",
        "am = deposit\n",
        "\n",
        "for sp in spx:\n",
        "  rev = float((sp+1)*am)\n",
        "  inc = float(rev/am - 1)\n",
        "  am = rev\n",
        "  sp_res_1.append(rev)\n",
        "  sp_res_2.append(inc)"
      ],
      "execution_count": 387,
      "outputs": []
    },
    {
      "cell_type": "code",
      "metadata": {
        "id": "CFJq7xH6Tx69"
      },
      "source": [
        "a = 1\n",
        "res_3 = []\n",
        "for row in res_1:\n",
        "    cr = (row+1)*a\n",
        "    a = row+1\n",
        "    res_3.append(cr-1)\n",
        "\n",
        "x=((res_2[-1]/10000)**(1/7))-1"
      ],
      "execution_count": 388,
      "outputs": []
    },
    {
      "cell_type": "code",
      "metadata": {
        "id": "YG86pzHdcCJ8"
      },
      "source": [
        "b = 1\n",
        "sp_res_3 = []\n",
        "\n",
        "for row in sp_res_2:\n",
        "  cr = (row+1)*b\n",
        "  b = row + 1\n",
        "  sp_res_3.append(cr-1)\n",
        "\n",
        "y = ((sp_res_1[-1]/10000)**(1/7))-1"
      ],
      "execution_count": 389,
      "outputs": []
    },
    {
      "cell_type": "code",
      "metadata": {
        "id": "nqQS038KmiBT"
      },
      "source": [
        "all_data = check_spx\n",
        "all_data['sp500'] = sp_res_3\n",
        "all_data['stocks'] = res_3\n",
        "all_data = all_data[['sp500','stocks']]"
      ],
      "execution_count": 390,
      "outputs": []
    },
    {
      "cell_type": "code",
      "metadata": {
        "id": "9rvlvDpOofur",
        "outputId": "e7a0e8ac-3beb-43c6-dac6-c9cf0ff959c6",
        "colab": {
          "base_uri": "https://localhost:8080/",
          "height": 299
        }
      },
      "source": [
        "all_data.plot()"
      ],
      "execution_count": 332,
      "outputs": [
        {
          "output_type": "execute_result",
          "data": {
            "text/plain": [
              "<matplotlib.axes._subplots.AxesSubplot at 0x7f1782038050>"
            ]
          },
          "metadata": {},
          "execution_count": 332
        },
        {
          "output_type": "display_data",
          "data": {
            "image/png": "[encoded data removed]",
            "text/plain": [
              "<Figure size 432x288 with 1 Axes>"
            ]
          },
          "metadata": {
            "needs_background": "light"
          }
        }
      ]
    },
    {
      "cell_type": "code",
      "metadata": {
        "id": "22Sq4dAos_eu",
        "outputId": "b49d8d10-8b60-4b19-89db-01d80eb810d2",
        "colab": {
          "base_uri": "https://localhost:8080/",
          "height": 112
        }
      },
      "source": [
        "vol_st = np.std(all_data['sp500'])\n",
        "vol_sp = np.std(all_data['stocks'])\n",
        "table = pd.DataFrame({'Тип':['stocks','sp500'],\n",
        "                      'Абсолютная_доходность':[res_2[-1]-deposit, sp_res_1[-1]-deposit],\n",
        "                      'Доходность_за_весь_в_период_в_годовых %':[x*100,y*100],\n",
        "                      'Волатильность':[vol_st,vol_sp]})\n",
        "table"
      ],
      "execution_count": 391,
      "outputs": [
        {
          "output_type": "execute_result",
          "data": {
            "text/html": [
              "<div>\n",
              "<style scoped>\n",
              "    .dataframe tbody tr th:only-of-type {\n",
              "        vertical-align: middle;\n",
              "    }\n",
              "\n",
              "    .dataframe tbody tr th {\n",
              "        vertical-align: top;\n",
              "    }\n",
              "\n",
              "    .dataframe thead th {\n",
              "        text-align: right;\n",
              "    }\n",
              "</style>\n",
              "<table border=\"1\" class=\"dataframe\">\n",
              "  <thead>\n",
              "    <tr style=\"text-align: right;\">\n",
              "      <th></th>\n",
              "      <th>Тип</th>\n",
              "      <th>Абсолютная_доходность</th>\n",
              "      <th>Доходность_за_весь_в_период_в_годовых %</th>\n",
              "      <th>Волатильность</th>\n",
              "    </tr>\n",
              "  </thead>\n",
              "  <tbody>\n",
              "    <tr>\n",
              "      <th>0</th>\n",
              "      <td>stocks</td>\n",
              "      <td>35984.152917</td>\n",
              "      <td>24.353586</td>\n",
              "      <td>0.051338</td>\n",
              "    </tr>\n",
              "    <tr>\n",
              "      <th>1</th>\n",
              "      <td>sp500</td>\n",
              "      <td>-500.589129</td>\n",
              "      <td>-0.730963</td>\n",
              "      <td>0.060771</td>\n",
              "    </tr>\n",
              "  </tbody>\n",
              "</table>\n",
              "</div>"
            ],
            "text/plain": [
              "      Тип  ...  Волатильность\n",
              "0  stocks  ...       0.051338\n",
              "1   sp500  ...       0.060771\n",
              "\n",
              "[2 rows x 4 columns]"
            ]
          },
          "metadata": {},
          "execution_count": 391
        }
      ]
    }
  ]
}